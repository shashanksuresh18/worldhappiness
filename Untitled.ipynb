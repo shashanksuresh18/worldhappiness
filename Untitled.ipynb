{
 "cells": [
  {
   "cell_type": "code",
   "execution_count": 49,
   "id": "0c0b758d",
   "metadata": {},
   "outputs": [],
   "source": [
    "import pandas as pd\n",
    "import numpy as np"
   ]
  },
  {
   "cell_type": "code",
   "execution_count": 50,
   "id": "c40d999c",
   "metadata": {},
   "outputs": [],
   "source": [
    "data = pd.read_csv(\"ecoli.csv\")"
   ]
  },
  {
   "cell_type": "code",
   "execution_count": 61,
   "id": "359fbb58",
   "metadata": {},
   "outputs": [],
   "source": [
    "data.head()\n",
    "cleaned_data=data"
   ]
  },
  {
   "cell_type": "code",
   "execution_count": 62,
   "id": "744d7df8",
   "metadata": {},
   "outputs": [
    {
     "name": "stdout",
     "output_type": "stream",
     "text": [
      "<class 'pandas.core.frame.DataFrame'>\n",
      "RangeIndex: 129 entries, 0 to 128\n",
      "Data columns (total 6 columns):\n",
      " #   Column  Non-Null Count  Dtype  \n",
      "---  ------  --------------  -----  \n",
      " 0   X1      129 non-null    float64\n",
      " 1   X2      129 non-null    float64\n",
      " 2   X3      129 non-null    float64\n",
      " 3   X4      129 non-null    float64\n",
      " 4   X5      129 non-null    float64\n",
      " 5   C       129 non-null    int64  \n",
      "dtypes: float64(5), int64(1)\n",
      "memory usage: 6.2 KB\n"
     ]
    }
   ],
   "source": [
    "data.info()"
   ]
  },
  {
   "cell_type": "code",
   "execution_count": 69,
   "id": "1d4a948f",
   "metadata": {},
   "outputs": [
    {
     "name": "stdout",
     "output_type": "stream",
     "text": [
      "Indices of outliers: [8, 106, 80, 119, 29]\n",
      "Number of outliers: 5\n"
     ]
    }
   ],
   "source": [
    "def detect_outliers(data):\n",
    "    outliers = []\n",
    "    threshold = 1.5  # Adjust this value for sensitivity to outliers\n",
    "\n",
    "    for col in data_no_outliers.columns:\n",
    "        Q1 = data_no_outliers[col].quantile(0.25)\n",
    "        Q3 = data_no_outliers[col].quantile(0.75)\n",
    "        IQR = Q3 - Q1\n",
    "        lower_bound = Q1 - threshold * IQR\n",
    "        upper_bound = Q3 + threshold * IQR\n",
    "\n",
    "        # Find outliers\n",
    "        outlier_indices = data_no_outliers[(data_no_outliers[col] < lower_bound) | (data_no_outliers[col] > upper_bound)].index\n",
    "        outliers.extend(outlier_indices)\n",
    "\n",
    "    return list(set(outliers))\n",
    "\n",
    "# Detect outliers in the dataset\n",
    "\n",
    "outlier_indices = detect_outliers(cleaned_data)\n",
    "print(\"Indices of outliers:\", outlier_indices)\n",
    "print(\"Number of outliers:\", len(outlier_indices))\n",
    "cleaned_data=data.drop(outlier_indices)"
   ]
  },
  {
   "cell_type": "code",
   "execution_count": 70,
   "id": "a9f16cf2",
   "metadata": {},
   "outputs": [
    {
     "name": "stdout",
     "output_type": "stream",
     "text": [
      "Indices of outliers (z-score method): [13, 119]\n",
      "Number of outliers (z-score method): 2\n"
     ]
    }
   ],
   "source": [
    "def detect_outliers_zscore(data):\n",
    "    outliers = []\n",
    "    threshold = 3  # Adjust this value for sensitivity to outliers\n",
    "\n",
    "    for col in data.columns:\n",
    "        z_scores = np.abs((data[col] - data[col].mean()) / data[col].std())\n",
    "        outlier_indices = z_scores[z_scores > threshold].index\n",
    "        outliers.extend(outlier_indices)\n",
    "\n",
    "    return list(set(outliers))\n",
    "\n",
    "# Detect outliers in the dataset using z-scores\n",
    "outlier_indices_zscore = detect_outliers_zscore(data)\n",
    "print(\"Indices of outliers (z-score method):\", outlier_indices_zscore)\n",
    "print(\"Number of outliers (z-score method):\", len(outlier_indices_zscore))"
   ]
  },
  {
   "cell_type": "code",
   "execution_count": 55,
   "id": "ae537b8c",
   "metadata": {},
   "outputs": [
    {
     "name": "stdout",
     "output_type": "stream",
     "text": [
      "Indices of outliers (Isolation Forest method): [8, 13, 29, 65, 71, 80, 84, 87, 102, 106, 109, 110, 119]\n",
      "Number of outliers (Isolation Forest method): 13\n"
     ]
    }
   ],
   "source": [
    "from sklearn.ensemble import IsolationForest\n",
    "numerical_data = data.select_dtypes(include=['float64', 'int64'])\n",
    "\n",
    "# Instantiate the Isolation Forest model\n",
    "model = IsolationForest(contamination=0.1)  # Adjust contamination parameter as needed\n",
    "\n",
    "# Fit the model to the data and predict outliers\n",
    "model.fit(numerical_data)\n",
    "outliers = model.predict(numerical_data)\n",
    "\n",
    "# Extract indices of outliers\n",
    "outlier_indices = data.index[outliers == -1].tolist()\n",
    "\n",
    "print(\"Indices of outliers (Isolation Forest method):\", outlier_indices)\n",
    "print(\"Number of outliers (Isolation Forest method):\", len(outlier_indices))"
   ]
  },
  {
   "cell_type": "code",
   "execution_count": 56,
   "id": "98f438a2",
   "metadata": {},
   "outputs": [
    {
     "data": {
      "image/png": "[encoded data removed]",
      "text/plain": [
       "<Figure size 800x800 with 1 Axes>"
      ]
     },
     "metadata": {},
     "output_type": "display_data"
    }
   ],
   "source": [
    "import matplotlib.pyplot as plt\n",
    "plt.figure(figsize=(8, 8))\n",
    "data.boxplot()\n",
    "plt.title('Boxplot showing Outliers')\n",
    "plt.ylabel('Values')\n",
    "plt.xlabel('Features')\n",
    "plt.grid(False)\n",
    "plt.show()"
   ]
  },
  {
   "cell_type": "code",
   "execution_count": 57,
   "id": "8a69d2e9",
   "metadata": {},
   "outputs": [
    {
     "name": "stdout",
     "output_type": "stream",
     "text": [
      "Indices of outliers: [8, 13, 29, 65, 71, 80, 84, 87, 102, 106, 109, 110, 119]\n",
      "Number of outliers: 13\n"
     ]
    }
   ],
   "source": [
    "def detect_outliers(data):\n",
    "    outliers_data = []\n",
    "    threshold = 1.5  # Adjust this value for sensitivity to outliers\n",
    "\n",
    "    for col in data.columns:\n",
    "        Q1 = data[col].quantile(0.25)\n",
    "        Q3 = data[col].quantile(0.75)\n",
    "        IQR = Q3 - Q1\n",
    "        lower_bound = Q1 - threshold * IQR\n",
    "        upper_bound = Q3 + threshold * IQR\n",
    "\n",
    "        # Find outliers\n",
    "        outlier_data = data[(data[col] >= lower_bound) & (data[col] <= upper_bound)]\n",
    "        \n",
    "\n",
    "    return outliers_data\n",
    "\n",
    "# Detect outliers in the dataset\n",
    "outlier_data = detect_outliers(data)\n",
    "print(\"Indices of outliers:\", outlier_indices)\n",
    "print(\"Number of outliers:\", len(outlier_indices))\n",
    "\n"
   ]
  },
  {
   "cell_type": "code",
   "execution_count": 48,
   "id": "3c45f697",
   "metadata": {},
   "outputs": [
    {
     "data": {
      "text/plain": [
       "[]"
      ]
     },
     "execution_count": 48,
     "metadata": {},
     "output_type": "execute_result"
    }
   ],
   "source": [
    "outlier_data"
   ]
  },
  {
   "cell_type": "code",
   "execution_count": null,
   "id": "135ee489",
   "metadata": {},
   "outputs": [],
   "source": []
  }
 ],
 "metadata": {
  "kernelspec": {
   "display_name": "Python 3 (ipykernel)",
   "language": "python",
   "name": "python3"
  },
  "language_info": {
   "codemirror_mode": {
    "name": "ipython",
    "version": 3
   },
   "file_extension": ".py",
   "mimetype": "text/x-python",
   "name": "python",
   "nbconvert_exporter": "python",
   "pygments_lexer": "ipython3",
   "version": "3.11.5"
  }
 },
 "nbformat": 4,
 "nbformat_minor": 5
}
