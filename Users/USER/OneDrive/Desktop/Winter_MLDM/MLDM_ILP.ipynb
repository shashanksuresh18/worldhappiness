{
 "cells": [
  {
   "cell_type": "code",
   "execution_count": 4,
   "id": "f8e3b693",
   "metadata": {},
   "outputs": [],
   "source": [
    "import pandas as pd\n",
    "\n",
    "# Load the dataset\n",
    "file_path = 'C:/Users/USER/healthcare-dataset-stroke-data.csv'  # Adjust the path to your file\n",
    "data = pd.read_csv(file_path)\n",
    "\n",
    "# Convert the dataset to Prolog facts\n",
    "def convert_to_prolog(row):\n",
    "    return (f\"patient({row['id']}, {row['gender'].lower()}, {row['age']}, \"\n",
    "            f\"{row['hypertension']}, {row['heart_disease']}, {row['ever_married'].lower()}, \"\n",
    "            f\"{row['work_type'].replace(' ', '_').lower()}, {row['Residence_type'].lower()}, \"\n",
    "            f\"{row['avg_glucose_level']}, {row['bmi']}, {row['smoking_status'].replace(' ', '_').lower()}, \"\n",
    "            f\"{row['stroke']}).\")\n",
    "\n",
    "prolog_facts = data.apply(convert_to_prolog, axis=1)\n",
    "\n",
    "# Save to a file\n",
    "with open('C:/Users/USER/patients.pl', 'w') as f:\n",
    "    for fact in prolog_facts:\n",
    "        f.write(fact + '\\n')\n"
   ]
  },
  {
   "cell_type": "code",
   "execution_count": null,
   "id": "8fcc5890",
   "metadata": {},
   "outputs": [],
   "source": []
  }
 ],
 "metadata": {
  "kernelspec": {
   "display_name": "Python 3 (ipykernel)",
   "language": "python",
   "name": "python3"
  },
  "language_info": {
   "codemirror_mode": {
    "name": "ipython",
    "version": 3
   },
   "file_extension": ".py",
   "mimetype": "text/x-python",
   "name": "python",
   "nbconvert_exporter": "python",
   "pygments_lexer": "ipython3",
   "version": "3.11.5"
  }
 },
 "nbformat": 4,
 "nbformat_minor": 5
}
